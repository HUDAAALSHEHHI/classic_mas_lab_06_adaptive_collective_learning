{
  "nbformat": 4,
  "nbformat_minor": 0,
  "metadata": {
    "colab": {
      "provenance": [],
      "gpuType": "A100"
    },
    "kernelspec": {
      "name": "python3",
      "display_name": "Python 3"
    },
    "language_info": {
      "name": "python"
    },
    "accelerator": "GPU"
  },
  "cells": [
    {
      "cell_type": "code",
      "execution_count": 1,
      "metadata": {
        "id": "hVr3twJWBvVy"
      },
      "outputs": [],
      "source": [
        "import random\n",
        "\n",
        "class Agent:\n",
        "    def __init__(self, id):\n",
        "        self.id = id\n",
        "        self.knowledge = random.uniform(0.3, 0.8)\n",
        "        self.performance = 0\n",
        "        self.learning_rate = random.uniform(0.05, 0.15)\n",
        "\n",
        "    def learn(self, influence):\n",
        "        self.knowledge += self.learning_rate * (influence - self.knowledge)\n",
        "        self.performance = self.knowledge * random.uniform(0.8, 1.2)\n"
      ]
    },
    {
      "cell_type": "code",
      "source": [
        "class CollectiveSystem:\n",
        "    def __init__(self, num_agents):\n",
        "        self.agents = [Agent(i) for i in range(num_agents)]\n",
        "\n",
        "    def simulate_round(self):\n",
        "        avg_knowledge = sum(a.knowledge for a in self.agents) / len(self.agents)\n",
        "        for agent in self.agents:\n",
        "            agent.learn(avg_knowledge)\n",
        "\n",
        "    def evaluate(self):\n",
        "        performances = [a.performance for a in self.agents]\n",
        "        return sum(performances) / len(performances)\n"
      ],
      "metadata": {
        "id": "1eYF4OJtC40p"
      },
      "execution_count": 2,
      "outputs": []
    },
    {
      "cell_type": "code",
      "source": [
        "system = CollectiveSystem(20)\n",
        "for round in range(10):\n",
        "    system.simulate_round()\n",
        "    avg_perf = system.evaluate()\n",
        "    print(f\"Round {round+1}: Avg Performance = {avg_perf:.3f}\")\n"
      ],
      "metadata": {
        "colab": {
          "base_uri": "https://localhost:8080/"
        },
        "id": "xOE7OBDzC88o",
        "outputId": "eab9bdf1-5020-4720-f524-d9219c3fb8a3"
      },
      "execution_count": 3,
      "outputs": [
        {
          "output_type": "stream",
          "name": "stdout",
          "text": [
            "Round 1: Avg Performance = 0.625\n",
            "Round 2: Avg Performance = 0.599\n",
            "Round 3: Avg Performance = 0.580\n",
            "Round 4: Avg Performance = 0.581\n",
            "Round 5: Avg Performance = 0.607\n",
            "Round 6: Avg Performance = 0.589\n",
            "Round 7: Avg Performance = 0.614\n",
            "Round 8: Avg Performance = 0.593\n",
            "Round 9: Avg Performance = 0.608\n",
            "Round 10: Avg Performance = 0.598\n"
          ]
        }
      ]
    },
    {
      "cell_type": "code",
      "source": [
        "final_performance = system.evaluate()\n",
        "print(f\"Final System Performance: {final_performance:.3f}\")\n"
      ],
      "metadata": {
        "id": "xHsvfRmUDAcj",
        "outputId": "39bd62b7-adf8-4c32-f400-a78af222abe9",
        "colab": {
          "base_uri": "https://localhost:8080/"
        }
      },
      "execution_count": 4,
      "outputs": [
        {
          "output_type": "stream",
          "name": "stdout",
          "text": [
            "Final System Performance: 0.598\n"
          ]
        }
      ]
    },
    {
      "cell_type": "code",
      "source": [],
      "metadata": {
        "id": "bpveoRIUDDKG"
      },
      "execution_count": null,
      "outputs": []
    }
  ]
}